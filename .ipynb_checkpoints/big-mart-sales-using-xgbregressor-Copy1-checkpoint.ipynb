{
 "cells": [
  {
   "cell_type": "markdown",
   "id": "252cea0e",
   "metadata": {
    "papermill": {
     "duration": 0.009213,
     "end_time": "2023-05-01T14:24:08.675347",
     "exception": false,
     "start_time": "2023-05-01T14:24:08.666134",
     "status": "completed"
    },
    "tags": []
   },
   "source": [
    "### [1-Preparing Data](#1)\n",
    "    cleaning data\n",
    "    Numerical Features\n",
    "    Categorical Features\n",
    "    Data Pre-Processing\n",
    "### [2-Training Data](#2)\n",
    "### [3-Evaluation](#3)"
   ]
  },
  {
   "cell_type": "markdown",
   "id": "c6bc61f6",
   "metadata": {
    "papermill": {
     "duration": 0.008411,
     "end_time": "2023-05-01T14:24:08.691768",
     "exception": false,
     "start_time": "2023-05-01T14:24:08.683357",
     "status": "completed"
    },
    "tags": []
   },
   "source": [
    "<a id='1'></a>\n",
    "### Preparing Data"
   ]
  },
  {
   "cell_type": "code",
   "execution_count": 1,
   "id": "713b0db6",
   "metadata": {
    "_cell_guid": "b1076dfc-b9ad-4769-8c92-a6c4dae69d19",
    "_uuid": "8f2839f25d086af736a60e9eeb907d3b93b6e0e5",
    "execution": {
     "iopub.execute_input": "2023-05-01T14:24:08.709295Z",
     "iopub.status.busy": "2023-05-01T14:24:08.708921Z",
     "iopub.status.idle": "2023-05-01T14:24:10.168203Z",
     "shell.execute_reply": "2023-05-01T14:24:10.166970Z"
    },
    "papermill": {
     "duration": 1.471275,
     "end_time": "2023-05-01T14:24:10.170916",
     "exception": false,
     "start_time": "2023-05-01T14:24:08.699641",
     "status": "completed"
    },
    "tags": []
   },
   "outputs": [
    {
     "ename": "ModuleNotFoundError",
     "evalue": "No module named 'xgboost'",
     "output_type": "error",
     "traceback": [
      "\u001b[1;31m---------------------------------------------------------------------------\u001b[0m",
      "\u001b[1;31mModuleNotFoundError\u001b[0m                       Traceback (most recent call last)",
      "Cell \u001b[1;32mIn[1], line 7\u001b[0m\n\u001b[0;32m      5\u001b[0m \u001b[38;5;28;01mfrom\u001b[39;00m \u001b[38;5;21;01msklearn\u001b[39;00m\u001b[38;5;21;01m.\u001b[39;00m\u001b[38;5;21;01mpreprocessing\u001b[39;00m \u001b[38;5;28;01mimport\u001b[39;00m LabelEncoder\n\u001b[0;32m      6\u001b[0m \u001b[38;5;28;01mfrom\u001b[39;00m \u001b[38;5;21;01msklearn\u001b[39;00m\u001b[38;5;21;01m.\u001b[39;00m\u001b[38;5;21;01mmodel_selection\u001b[39;00m \u001b[38;5;28;01mimport\u001b[39;00m train_test_split\n\u001b[1;32m----> 7\u001b[0m \u001b[38;5;28;01mfrom\u001b[39;00m \u001b[38;5;21;01mxgboost\u001b[39;00m \u001b[38;5;28;01mimport\u001b[39;00m XGBRegressor\n\u001b[0;32m      8\u001b[0m \u001b[38;5;28;01mfrom\u001b[39;00m \u001b[38;5;21;01msklearn\u001b[39;00m \u001b[38;5;28;01mimport\u001b[39;00m metrics\n",
      "\u001b[1;31mModuleNotFoundError\u001b[0m: No module named 'xgboost'"
     ]
    }
   ],
   "source": [
    "import numpy as np\n",
    "import pandas as pd\n",
    "import matplotlib.pyplot as plt\n",
    "import seaborn as sns\n",
    "from sklearn.preprocessing import LabelEncoder\n",
    "from sklearn.model_selection import train_test_split\n",
    "from xgboost import XGBRegressor\n",
    "from sklearn import metrics"
   ]
  },
  {
   "cell_type": "code",
   "execution_count": 2,
   "id": "9367066a",
   "metadata": {
    "execution": {
     "iopub.execute_input": "2023-05-01T14:24:10.188503Z",
     "iopub.status.busy": "2023-05-01T14:24:10.188088Z",
     "iopub.status.idle": "2023-05-01T14:24:10.279286Z",
     "shell.execute_reply": "2023-05-01T14:24:10.277988Z"
    },
    "papermill": {
     "duration": 0.102627,
     "end_time": "2023-05-01T14:24:10.281573",
     "exception": false,
     "start_time": "2023-05-01T14:24:10.178946",
     "status": "completed"
    },
    "tags": []
   },
   "outputs": [
    {
     "data": {
      "text/html": [
       "<div>\n",
       "<style scoped>\n",
       "    .dataframe tbody tr th:only-of-type {\n",
       "        vertical-align: middle;\n",
       "    }\n",
       "\n",
       "    .dataframe tbody tr th {\n",
       "        vertical-align: top;\n",
       "    }\n",
       "\n",
       "    .dataframe thead th {\n",
       "        text-align: right;\n",
       "    }\n",
       "</style>\n",
       "<table border=\"1\" class=\"dataframe\">\n",
       "  <thead>\n",
       "    <tr style=\"text-align: right;\">\n",
       "      <th></th>\n",
       "      <th>Item_Identifier</th>\n",
       "      <th>Item_Weight</th>\n",
       "      <th>Item_Fat_Content</th>\n",
       "      <th>Item_Visibility</th>\n",
       "      <th>Item_Type</th>\n",
       "      <th>Item_MRP</th>\n",
       "      <th>Outlet_Identifier</th>\n",
       "      <th>Outlet_Establishment_Year</th>\n",
       "      <th>Outlet_Size</th>\n",
       "      <th>Outlet_Location_Type</th>\n",
       "      <th>Outlet_Type</th>\n",
       "      <th>Item_Outlet_Sales</th>\n",
       "    </tr>\n",
       "  </thead>\n",
       "  <tbody>\n",
       "    <tr>\n",
       "      <th>0</th>\n",
       "      <td>FDA15</td>\n",
       "      <td>9.30</td>\n",
       "      <td>Low Fat</td>\n",
       "      <td>0.016047</td>\n",
       "      <td>Dairy</td>\n",
       "      <td>249.8092</td>\n",
       "      <td>OUT049</td>\n",
       "      <td>1999</td>\n",
       "      <td>Medium</td>\n",
       "      <td>Tier 1</td>\n",
       "      <td>Supermarket Type1</td>\n",
       "      <td>3735.1380</td>\n",
       "    </tr>\n",
       "    <tr>\n",
       "      <th>1</th>\n",
       "      <td>DRC01</td>\n",
       "      <td>5.92</td>\n",
       "      <td>Regular</td>\n",
       "      <td>0.019278</td>\n",
       "      <td>Soft Drinks</td>\n",
       "      <td>48.2692</td>\n",
       "      <td>OUT018</td>\n",
       "      <td>2009</td>\n",
       "      <td>Medium</td>\n",
       "      <td>Tier 3</td>\n",
       "      <td>Supermarket Type2</td>\n",
       "      <td>443.4228</td>\n",
       "    </tr>\n",
       "    <tr>\n",
       "      <th>2</th>\n",
       "      <td>FDN15</td>\n",
       "      <td>17.50</td>\n",
       "      <td>Low Fat</td>\n",
       "      <td>0.016760</td>\n",
       "      <td>Meat</td>\n",
       "      <td>141.6180</td>\n",
       "      <td>OUT049</td>\n",
       "      <td>1999</td>\n",
       "      <td>Medium</td>\n",
       "      <td>Tier 1</td>\n",
       "      <td>Supermarket Type1</td>\n",
       "      <td>2097.2700</td>\n",
       "    </tr>\n",
       "    <tr>\n",
       "      <th>3</th>\n",
       "      <td>FDX07</td>\n",
       "      <td>19.20</td>\n",
       "      <td>Regular</td>\n",
       "      <td>0.000000</td>\n",
       "      <td>Fruits and Vegetables</td>\n",
       "      <td>182.0950</td>\n",
       "      <td>OUT010</td>\n",
       "      <td>1998</td>\n",
       "      <td>NaN</td>\n",
       "      <td>Tier 3</td>\n",
       "      <td>Grocery Store</td>\n",
       "      <td>732.3800</td>\n",
       "    </tr>\n",
       "    <tr>\n",
       "      <th>4</th>\n",
       "      <td>NCD19</td>\n",
       "      <td>8.93</td>\n",
       "      <td>Low Fat</td>\n",
       "      <td>0.000000</td>\n",
       "      <td>Household</td>\n",
       "      <td>53.8614</td>\n",
       "      <td>OUT013</td>\n",
       "      <td>1987</td>\n",
       "      <td>High</td>\n",
       "      <td>Tier 3</td>\n",
       "      <td>Supermarket Type1</td>\n",
       "      <td>994.7052</td>\n",
       "    </tr>\n",
       "  </tbody>\n",
       "</table>\n",
       "</div>"
      ],
      "text/plain": [
       "  Item_Identifier  Item_Weight Item_Fat_Content  Item_Visibility  \\\n",
       "0           FDA15         9.30          Low Fat         0.016047   \n",
       "1           DRC01         5.92          Regular         0.019278   \n",
       "2           FDN15        17.50          Low Fat         0.016760   \n",
       "3           FDX07        19.20          Regular         0.000000   \n",
       "4           NCD19         8.93          Low Fat         0.000000   \n",
       "\n",
       "               Item_Type  Item_MRP Outlet_Identifier  \\\n",
       "0                  Dairy  249.8092            OUT049   \n",
       "1            Soft Drinks   48.2692            OUT018   \n",
       "2                   Meat  141.6180            OUT049   \n",
       "3  Fruits and Vegetables  182.0950            OUT010   \n",
       "4              Household   53.8614            OUT013   \n",
       "\n",
       "   Outlet_Establishment_Year Outlet_Size Outlet_Location_Type  \\\n",
       "0                       1999      Medium               Tier 1   \n",
       "1                       2009      Medium               Tier 3   \n",
       "2                       1999      Medium               Tier 1   \n",
       "3                       1998         NaN               Tier 3   \n",
       "4                       1987        High               Tier 3   \n",
       "\n",
       "         Outlet_Type  Item_Outlet_Sales  \n",
       "0  Supermarket Type1          3735.1380  \n",
       "1  Supermarket Type2           443.4228  \n",
       "2  Supermarket Type1          2097.2700  \n",
       "3      Grocery Store           732.3800  \n",
       "4  Supermarket Type1           994.7052  "
      ]
     },
     "execution_count": 2,
     "metadata": {},
     "output_type": "execute_result"
    }
   ],
   "source": [
    "df = pd.read_csv(\"/kaggle/input/bigmart-sales-data/Train.csv\")\n",
    "df.head()"
   ]
  },
  {
   "cell_type": "code",
   "execution_count": 3,
   "id": "25c9bab2",
   "metadata": {
    "execution": {
     "iopub.execute_input": "2023-05-01T14:24:10.300421Z",
     "iopub.status.busy": "2023-05-01T14:24:10.300015Z",
     "iopub.status.idle": "2023-05-01T14:24:10.313354Z",
     "shell.execute_reply": "2023-05-01T14:24:10.312117Z"
    },
    "papermill": {
     "duration": 0.025921,
     "end_time": "2023-05-01T14:24:10.315762",
     "exception": false,
     "start_time": "2023-05-01T14:24:10.289841",
     "status": "completed"
    },
    "tags": []
   },
   "outputs": [
    {
     "data": {
      "text/plain": [
       "Item_Identifier                 0\n",
       "Item_Weight                  1463\n",
       "Item_Fat_Content                0\n",
       "Item_Visibility                 0\n",
       "Item_Type                       0\n",
       "Item_MRP                        0\n",
       "Outlet_Identifier               0\n",
       "Outlet_Establishment_Year       0\n",
       "Outlet_Size                  2410\n",
       "Outlet_Location_Type            0\n",
       "Outlet_Type                     0\n",
       "Item_Outlet_Sales               0\n",
       "dtype: int64"
      ]
     },
     "execution_count": 3,
     "metadata": {},
     "output_type": "execute_result"
    }
   ],
   "source": [
    "df.isnull().sum()"
   ]
  },
  {
   "cell_type": "markdown",
   "id": "69c151d2",
   "metadata": {
    "papermill": {
     "duration": 0.008131,
     "end_time": "2023-05-01T14:24:10.332260",
     "exception": false,
     "start_time": "2023-05-01T14:24:10.324129",
     "status": "completed"
    },
    "tags": []
   },
   "source": [
    "### Data Cleaning"
   ]
  },
  {
   "cell_type": "code",
   "execution_count": 4,
   "id": "c1101d0b",
   "metadata": {
    "execution": {
     "iopub.execute_input": "2023-05-01T14:24:10.350421Z",
     "iopub.status.busy": "2023-05-01T14:24:10.349998Z",
     "iopub.status.idle": "2023-05-01T14:24:10.358035Z",
     "shell.execute_reply": "2023-05-01T14:24:10.357103Z"
    },
    "papermill": {
     "duration": 0.020026,
     "end_time": "2023-05-01T14:24:10.360404",
     "exception": false,
     "start_time": "2023-05-01T14:24:10.340378",
     "status": "completed"
    },
    "tags": []
   },
   "outputs": [],
   "source": [
    "# filling the missing data in \"Item_weight column\" with \"Mean\" value\n",
    "df['Item_Weight'].fillna(df['Item_Weight'].mean(), inplace=True)"
   ]
  },
  {
   "cell_type": "code",
   "execution_count": 5,
   "id": "a3672ff3",
   "metadata": {
    "execution": {
     "iopub.execute_input": "2023-05-01T14:24:10.380588Z",
     "iopub.status.busy": "2023-05-01T14:24:10.380179Z",
     "iopub.status.idle": "2023-05-01T14:24:10.406329Z",
     "shell.execute_reply": "2023-05-01T14:24:10.405411Z"
    },
    "papermill": {
     "duration": 0.038651,
     "end_time": "2023-05-01T14:24:10.408814",
     "exception": false,
     "start_time": "2023-05-01T14:24:10.370163",
     "status": "completed"
    },
    "tags": []
   },
   "outputs": [],
   "source": [
    "# filling the missing data in \"Outlet_Size\" column with Mode\n",
    "mode_of_Outlet_size = df.pivot_table(values='Outlet_Size', \n",
    "                                                columns='Outlet_Type', \n",
    "                                                aggfunc=(lambda x: x.mode()[0]))"
   ]
  },
  {
   "cell_type": "code",
   "execution_count": 6,
   "id": "5f18ddc0",
   "metadata": {
    "execution": {
     "iopub.execute_input": "2023-05-01T14:24:10.427912Z",
     "iopub.status.busy": "2023-05-01T14:24:10.427005Z",
     "iopub.status.idle": "2023-05-01T14:24:10.432490Z",
     "shell.execute_reply": "2023-05-01T14:24:10.431397Z"
    },
    "papermill": {
     "duration": 0.017726,
     "end_time": "2023-05-01T14:24:10.435031",
     "exception": false,
     "start_time": "2023-05-01T14:24:10.417305",
     "status": "completed"
    },
    "tags": []
   },
   "outputs": [],
   "source": [
    "miss_values = df['Outlet_Size'].isnull()  "
   ]
  },
  {
   "cell_type": "code",
   "execution_count": 7,
   "id": "32237bb1",
   "metadata": {
    "execution": {
     "iopub.execute_input": "2023-05-01T14:24:10.453410Z",
     "iopub.status.busy": "2023-05-01T14:24:10.453002Z",
     "iopub.status.idle": "2023-05-01T14:24:10.530706Z",
     "shell.execute_reply": "2023-05-01T14:24:10.529397Z"
    },
    "papermill": {
     "duration": 0.090284,
     "end_time": "2023-05-01T14:24:10.533592",
     "exception": false,
     "start_time": "2023-05-01T14:24:10.443308",
     "status": "completed"
    },
    "tags": []
   },
   "outputs": [],
   "source": [
    "df.loc[miss_values, 'Outlet_Size'] = df.loc[miss_values,'Outlet_Type'].apply(lambda x: mode_of_Outlet_size[x])"
   ]
  },
  {
   "cell_type": "markdown",
   "id": "2af8e985",
   "metadata": {
    "papermill": {
     "duration": 0.007986,
     "end_time": "2023-05-01T14:24:10.550059",
     "exception": false,
     "start_time": "2023-05-01T14:24:10.542073",
     "status": "completed"
    },
    "tags": []
   },
   "source": [
    "### Numerical Features"
   ]
  },
  {
   "cell_type": "code",
   "execution_count": 8,
   "id": "f35d60b8",
   "metadata": {
    "execution": {
     "iopub.execute_input": "2023-05-01T14:24:10.568737Z",
     "iopub.status.busy": "2023-05-01T14:24:10.568298Z",
     "iopub.status.idle": "2023-05-01T14:24:11.013190Z",
     "shell.execute_reply": "2023-05-01T14:24:11.011939Z"
    },
    "papermill": {
     "duration": 0.457559,
     "end_time": "2023-05-01T14:24:11.015878",
     "exception": false,
     "start_time": "2023-05-01T14:24:10.558319",
     "status": "completed"
    },
    "tags": []
   },
   "outputs": [
    {
     "name": "stderr",
     "output_type": "stream",
     "text": [
      "/opt/conda/lib/python3.7/site-packages/ipykernel_launcher.py:4: UserWarning: \n",
      "\n",
      "`distplot` is a deprecated function and will be removed in seaborn v0.14.0.\n",
      "\n",
      "Please adapt your code to use either `displot` (a figure-level function with\n",
      "similar flexibility) or `histplot` (an axes-level function for histograms).\n",
      "\n",
      "For a guide to updating your code to use the new functions, please see\n",
      "https://gist.github.com/mwaskom/de44147ed2974457ad6372750bbe5751\n",
      "\n",
      "  after removing the cwd from sys.path.\n"
     ]
    },
    {
     "data": {
      "image/png": "[encoded data removed]",
      "text/plain": [
       "<Figure size 600x600 with 1 Axes>"
      ]
     },
     "metadata": {},
     "output_type": "display_data"
    }
   ],
   "source": [
    "sns.set()\n",
    "# Item Visibility distribution\n",
    "plt.figure(figsize=(6,6))\n",
    "sns.distplot(df['Item_Visibility'])\n",
    "plt.show()"
   ]
  },
  {
   "cell_type": "code",
   "execution_count": 9,
   "id": "17a9d963",
   "metadata": {
    "execution": {
     "iopub.execute_input": "2023-05-01T14:24:11.035500Z",
     "iopub.status.busy": "2023-05-01T14:24:11.035075Z",
     "iopub.status.idle": "2023-05-01T14:24:11.374731Z",
     "shell.execute_reply": "2023-05-01T14:24:11.373357Z"
    },
    "papermill": {
     "duration": 0.352712,
     "end_time": "2023-05-01T14:24:11.377623",
     "exception": false,
     "start_time": "2023-05-01T14:24:11.024911",
     "status": "completed"
    },
    "tags": []
   },
   "outputs": [
    {
     "name": "stderr",
     "output_type": "stream",
     "text": [
      "/opt/conda/lib/python3.7/site-packages/ipykernel_launcher.py:3: UserWarning: \n",
      "\n",
      "`distplot` is a deprecated function and will be removed in seaborn v0.14.0.\n",
      "\n",
      "Please adapt your code to use either `displot` (a figure-level function with\n",
      "similar flexibility) or `histplot` (an axes-level function for histograms).\n",
      "\n",
      "For a guide to updating your code to use the new functions, please see\n",
      "https://gist.github.com/mwaskom/de44147ed2974457ad6372750bbe5751\n",
      "\n",
      "  This is separate from the ipykernel package so we can avoid doing imports until\n"
     ]
    },
    {
     "data": {
      "image/png": "[encoded data removed]",
      "text/plain": [
       "<Figure size 600x600 with 1 Axes>"
      ]
     },
     "metadata": {},
     "output_type": "display_data"
    }
   ],
   "source": [
    "# Item Weight distribution\n",
    "plt.figure(figsize=(6,6))\n",
    "sns.distplot(df['Item_Weight'])\n",
    "plt.show()"
   ]
  },
  {
   "cell_type": "code",
   "execution_count": 10,
   "id": "b8de7be8",
   "metadata": {
    "execution": {
     "iopub.execute_input": "2023-05-01T14:24:11.398904Z",
     "iopub.status.busy": "2023-05-01T14:24:11.398496Z",
     "iopub.status.idle": "2023-05-01T14:24:11.813781Z",
     "shell.execute_reply": "2023-05-01T14:24:11.812504Z"
    },
    "papermill": {
     "duration": 0.429146,
     "end_time": "2023-05-01T14:24:11.816605",
     "exception": false,
     "start_time": "2023-05-01T14:24:11.387459",
     "status": "completed"
    },
    "tags": []
   },
   "outputs": [
    {
     "name": "stderr",
     "output_type": "stream",
     "text": [
      "/opt/conda/lib/python3.7/site-packages/ipykernel_launcher.py:3: UserWarning: \n",
      "\n",
      "`distplot` is a deprecated function and will be removed in seaborn v0.14.0.\n",
      "\n",
      "Please adapt your code to use either `displot` (a figure-level function with\n",
      "similar flexibility) or `histplot` (an axes-level function for histograms).\n",
      "\n",
      "For a guide to updating your code to use the new functions, please see\n",
      "https://gist.github.com/mwaskom/de44147ed2974457ad6372750bbe5751\n",
      "\n",
      "  This is separate from the ipykernel package so we can avoid doing imports until\n"
     ]
    },
    {
     "data": {
      "image/png": "[encoded data removed]",
      "text/plain": [
       "<Figure size 600x600 with 1 Axes>"
      ]
     },
     "metadata": {},
     "output_type": "display_data"
    }
   ],
   "source": [
    "# Item Outlet Sales distribution\n",
    "plt.figure(figsize=(6,6))\n",
    "sns.distplot(df['Item_Outlet_Sales'])\n",
    "plt.show()"
   ]
  },
  {
   "cell_type": "code",
   "execution_count": 11,
   "id": "65ed1877",
   "metadata": {
    "execution": {
     "iopub.execute_input": "2023-05-01T14:24:11.840388Z",
     "iopub.status.busy": "2023-05-01T14:24:11.839972Z",
     "iopub.status.idle": "2023-05-01T14:24:12.112368Z",
     "shell.execute_reply": "2023-05-01T14:24:12.110998Z"
    },
    "papermill": {
     "duration": 0.287509,
     "end_time": "2023-05-01T14:24:12.114990",
     "exception": false,
     "start_time": "2023-05-01T14:24:11.827481",
     "status": "completed"
    },
    "tags": []
   },
   "outputs": [
    {
     "data": {
      "image/png": "[encoded data removed]",
      "text/plain": [
       "<Figure size 600x600 with 1 Axes>"
      ]
     },
     "metadata": {},
     "output_type": "display_data"
    }
   ],
   "source": [
    "# Outlet Establishment Year column\n",
    "plt.figure(figsize=(6,6))\n",
    "sns.countplot(x='Outlet_Establishment_Year', data=df)\n",
    "plt.show()"
   ]
  },
  {
   "cell_type": "markdown",
   "id": "d92e7db4",
   "metadata": {
    "papermill": {
     "duration": 0.010278,
     "end_time": "2023-05-01T14:24:12.136061",
     "exception": false,
     "start_time": "2023-05-01T14:24:12.125783",
     "status": "completed"
    },
    "tags": []
   },
   "source": [
    "### Categorical Features"
   ]
  },
  {
   "cell_type": "code",
   "execution_count": 12,
   "id": "7b9bf75a",
   "metadata": {
    "execution": {
     "iopub.execute_input": "2023-05-01T14:24:12.159546Z",
     "iopub.status.busy": "2023-05-01T14:24:12.159147Z",
     "iopub.status.idle": "2023-05-01T14:24:12.389655Z",
     "shell.execute_reply": "2023-05-01T14:24:12.388659Z"
    },
    "papermill": {
     "duration": 0.245764,
     "end_time": "2023-05-01T14:24:12.392411",
     "exception": false,
     "start_time": "2023-05-01T14:24:12.146647",
     "status": "completed"
    },
    "tags": []
   },
   "outputs": [
    {
     "data": {
      "image/png": "[encoded data removed]",
      "text/plain": [
       "<Figure size 600x600 with 1 Axes>"
      ]
     },
     "metadata": {},
     "output_type": "display_data"
    }
   ],
   "source": [
    "# Item Fat Content column\n",
    "plt.figure(figsize=(6,6))\n",
    "sns.countplot(x='Item_Fat_Content', data=df)\n",
    "plt.show()"
   ]
  },
  {
   "cell_type": "code",
   "execution_count": 13,
   "id": "e4aa9493",
   "metadata": {
    "execution": {
     "iopub.execute_input": "2023-05-01T14:24:12.417087Z",
     "iopub.status.busy": "2023-05-01T14:24:12.416604Z",
     "iopub.status.idle": "2023-05-01T14:24:12.840405Z",
     "shell.execute_reply": "2023-05-01T14:24:12.839266Z"
    },
    "papermill": {
     "duration": 0.439271,
     "end_time": "2023-05-01T14:24:12.843114",
     "exception": false,
     "start_time": "2023-05-01T14:24:12.403843",
     "status": "completed"
    },
    "tags": []
   },
   "outputs": [
    {
     "data": {
      "image/png": "[encoded data removed]",
      "text/plain": [
       "<Figure size 3000x600 with 1 Axes>"
      ]
     },
     "metadata": {},
     "output_type": "display_data"
    }
   ],
   "source": [
    "# Item Type column\n",
    "plt.figure(figsize=(30,6))\n",
    "sns.countplot(x='Item_Type', data=df)\n",
    "plt.show()"
   ]
  },
  {
   "cell_type": "code",
   "execution_count": 14,
   "id": "d8805d1a",
   "metadata": {
    "execution": {
     "iopub.execute_input": "2023-05-01T14:24:12.869238Z",
     "iopub.status.busy": "2023-05-01T14:24:12.868764Z",
     "iopub.status.idle": "2023-05-01T14:24:13.083335Z",
     "shell.execute_reply": "2023-05-01T14:24:13.082101Z"
    },
    "papermill": {
     "duration": 0.230748,
     "end_time": "2023-05-01T14:24:13.086131",
     "exception": false,
     "start_time": "2023-05-01T14:24:12.855383",
     "status": "completed"
    },
    "tags": []
   },
   "outputs": [
    {
     "data": {
      "image/png": "[encoded data removed]",
      "text/plain": [
       "<Figure size 600x600 with 1 Axes>"
      ]
     },
     "metadata": {},
     "output_type": "display_data"
    }
   ],
   "source": [
    "# Outlet Size column\n",
    "plt.figure(figsize=(6,6))\n",
    "sns.countplot(x='Outlet_Size', data=df)\n",
    "plt.show()"
   ]
  },
  {
   "cell_type": "markdown",
   "id": "1fa7051a",
   "metadata": {
    "papermill": {
     "duration": 0.012091,
     "end_time": "2023-05-01T14:24:13.110646",
     "exception": false,
     "start_time": "2023-05-01T14:24:13.098555",
     "status": "completed"
    },
    "tags": []
   },
   "source": [
    "### Data Pre-Processing"
   ]
  },
  {
   "cell_type": "code",
   "execution_count": 15,
   "id": "e5abe1a0",
   "metadata": {
    "execution": {
     "iopub.execute_input": "2023-05-01T14:24:13.137234Z",
     "iopub.status.busy": "2023-05-01T14:24:13.136203Z",
     "iopub.status.idle": "2023-05-01T14:24:13.155281Z",
     "shell.execute_reply": "2023-05-01T14:24:13.153843Z"
    },
    "papermill": {
     "duration": 0.035471,
     "end_time": "2023-05-01T14:24:13.158104",
     "exception": false,
     "start_time": "2023-05-01T14:24:13.122633",
     "status": "completed"
    },
    "tags": []
   },
   "outputs": [
    {
     "data": {
      "text/html": [
       "<div>\n",
       "<style scoped>\n",
       "    .dataframe tbody tr th:only-of-type {\n",
       "        vertical-align: middle;\n",
       "    }\n",
       "\n",
       "    .dataframe tbody tr th {\n",
       "        vertical-align: top;\n",
       "    }\n",
       "\n",
       "    .dataframe thead th {\n",
       "        text-align: right;\n",
       "    }\n",
       "</style>\n",
       "<table border=\"1\" class=\"dataframe\">\n",
       "  <thead>\n",
       "    <tr style=\"text-align: right;\">\n",
       "      <th></th>\n",
       "      <th>Item_Identifier</th>\n",
       "      <th>Item_Weight</th>\n",
       "      <th>Item_Fat_Content</th>\n",
       "      <th>Item_Visibility</th>\n",
       "      <th>Item_Type</th>\n",
       "      <th>Item_MRP</th>\n",
       "      <th>Outlet_Identifier</th>\n",
       "      <th>Outlet_Establishment_Year</th>\n",
       "      <th>Outlet_Size</th>\n",
       "      <th>Outlet_Location_Type</th>\n",
       "      <th>Outlet_Type</th>\n",
       "      <th>Item_Outlet_Sales</th>\n",
       "    </tr>\n",
       "  </thead>\n",
       "  <tbody>\n",
       "    <tr>\n",
       "      <th>0</th>\n",
       "      <td>FDA15</td>\n",
       "      <td>9.30</td>\n",
       "      <td>Low Fat</td>\n",
       "      <td>0.016047</td>\n",
       "      <td>Dairy</td>\n",
       "      <td>249.8092</td>\n",
       "      <td>OUT049</td>\n",
       "      <td>1999</td>\n",
       "      <td>Medium</td>\n",
       "      <td>Tier 1</td>\n",
       "      <td>Supermarket Type1</td>\n",
       "      <td>3735.1380</td>\n",
       "    </tr>\n",
       "    <tr>\n",
       "      <th>1</th>\n",
       "      <td>DRC01</td>\n",
       "      <td>5.92</td>\n",
       "      <td>Regular</td>\n",
       "      <td>0.019278</td>\n",
       "      <td>Soft Drinks</td>\n",
       "      <td>48.2692</td>\n",
       "      <td>OUT018</td>\n",
       "      <td>2009</td>\n",
       "      <td>Medium</td>\n",
       "      <td>Tier 3</td>\n",
       "      <td>Supermarket Type2</td>\n",
       "      <td>443.4228</td>\n",
       "    </tr>\n",
       "    <tr>\n",
       "      <th>2</th>\n",
       "      <td>FDN15</td>\n",
       "      <td>17.50</td>\n",
       "      <td>Low Fat</td>\n",
       "      <td>0.016760</td>\n",
       "      <td>Meat</td>\n",
       "      <td>141.6180</td>\n",
       "      <td>OUT049</td>\n",
       "      <td>1999</td>\n",
       "      <td>Medium</td>\n",
       "      <td>Tier 1</td>\n",
       "      <td>Supermarket Type1</td>\n",
       "      <td>2097.2700</td>\n",
       "    </tr>\n",
       "    <tr>\n",
       "      <th>3</th>\n",
       "      <td>FDX07</td>\n",
       "      <td>19.20</td>\n",
       "      <td>Regular</td>\n",
       "      <td>0.000000</td>\n",
       "      <td>Fruits and Vegetables</td>\n",
       "      <td>182.0950</td>\n",
       "      <td>OUT010</td>\n",
       "      <td>1998</td>\n",
       "      <td>Small</td>\n",
       "      <td>Tier 3</td>\n",
       "      <td>Grocery Store</td>\n",
       "      <td>732.3800</td>\n",
       "    </tr>\n",
       "    <tr>\n",
       "      <th>4</th>\n",
       "      <td>NCD19</td>\n",
       "      <td>8.93</td>\n",
       "      <td>Low Fat</td>\n",
       "      <td>0.000000</td>\n",
       "      <td>Household</td>\n",
       "      <td>53.8614</td>\n",
       "      <td>OUT013</td>\n",
       "      <td>1987</td>\n",
       "      <td>High</td>\n",
       "      <td>Tier 3</td>\n",
       "      <td>Supermarket Type1</td>\n",
       "      <td>994.7052</td>\n",
       "    </tr>\n",
       "  </tbody>\n",
       "</table>\n",
       "</div>"
      ],
      "text/plain": [
       "  Item_Identifier  Item_Weight Item_Fat_Content  Item_Visibility  \\\n",
       "0           FDA15         9.30          Low Fat         0.016047   \n",
       "1           DRC01         5.92          Regular         0.019278   \n",
       "2           FDN15        17.50          Low Fat         0.016760   \n",
       "3           FDX07        19.20          Regular         0.000000   \n",
       "4           NCD19         8.93          Low Fat         0.000000   \n",
       "\n",
       "               Item_Type  Item_MRP Outlet_Identifier  \\\n",
       "0                  Dairy  249.8092            OUT049   \n",
       "1            Soft Drinks   48.2692            OUT018   \n",
       "2                   Meat  141.6180            OUT049   \n",
       "3  Fruits and Vegetables  182.0950            OUT010   \n",
       "4              Household   53.8614            OUT013   \n",
       "\n",
       "   Outlet_Establishment_Year Outlet_Size Outlet_Location_Type  \\\n",
       "0                       1999      Medium               Tier 1   \n",
       "1                       2009      Medium               Tier 3   \n",
       "2                       1999      Medium               Tier 1   \n",
       "3                       1998       Small               Tier 3   \n",
       "4                       1987        High               Tier 3   \n",
       "\n",
       "         Outlet_Type  Item_Outlet_Sales  \n",
       "0  Supermarket Type1          3735.1380  \n",
       "1  Supermarket Type2           443.4228  \n",
       "2  Supermarket Type1          2097.2700  \n",
       "3      Grocery Store           732.3800  \n",
       "4  Supermarket Type1           994.7052  "
      ]
     },
     "execution_count": 15,
     "metadata": {},
     "output_type": "execute_result"
    }
   ],
   "source": [
    "df.head()"
   ]
  },
  {
   "cell_type": "code",
   "execution_count": 16,
   "id": "179199f8",
   "metadata": {
    "execution": {
     "iopub.execute_input": "2023-05-01T14:24:13.184576Z",
     "iopub.status.busy": "2023-05-01T14:24:13.184175Z",
     "iopub.status.idle": "2023-05-01T14:24:13.193581Z",
     "shell.execute_reply": "2023-05-01T14:24:13.192379Z"
    },
    "papermill": {
     "duration": 0.02526,
     "end_time": "2023-05-01T14:24:13.195779",
     "exception": false,
     "start_time": "2023-05-01T14:24:13.170519",
     "status": "completed"
    },
    "tags": []
   },
   "outputs": [
    {
     "data": {
      "text/plain": [
       "Low Fat    5089\n",
       "Regular    2889\n",
       "LF          316\n",
       "reg         117\n",
       "low fat     112\n",
       "Name: Item_Fat_Content, dtype: int64"
      ]
     },
     "execution_count": 16,
     "metadata": {},
     "output_type": "execute_result"
    }
   ],
   "source": [
    "df['Item_Fat_Content'].value_counts()"
   ]
  },
  {
   "cell_type": "code",
   "execution_count": 17,
   "id": "0d522a5b",
   "metadata": {
    "execution": {
     "iopub.execute_input": "2023-05-01T14:24:13.223136Z",
     "iopub.status.busy": "2023-05-01T14:24:13.221909Z",
     "iopub.status.idle": "2023-05-01T14:24:13.230833Z",
     "shell.execute_reply": "2023-05-01T14:24:13.229501Z"
    },
    "papermill": {
     "duration": 0.025602,
     "end_time": "2023-05-01T14:24:13.233682",
     "exception": false,
     "start_time": "2023-05-01T14:24:13.208080",
     "status": "completed"
    },
    "tags": []
   },
   "outputs": [],
   "source": [
    "df.replace({'Item_Fat_Content': {\n",
    "    'low fat':'Low Fat','LF':'Low Fat', 'reg':'Regular'}}, inplace=True)"
   ]
  },
  {
   "cell_type": "code",
   "execution_count": 18,
   "id": "22dba7f9",
   "metadata": {
    "execution": {
     "iopub.execute_input": "2023-05-01T14:24:13.261446Z",
     "iopub.status.busy": "2023-05-01T14:24:13.260566Z",
     "iopub.status.idle": "2023-05-01T14:24:13.270427Z",
     "shell.execute_reply": "2023-05-01T14:24:13.269225Z"
    },
    "papermill": {
     "duration": 0.026314,
     "end_time": "2023-05-01T14:24:13.272822",
     "exception": false,
     "start_time": "2023-05-01T14:24:13.246508",
     "status": "completed"
    },
    "tags": []
   },
   "outputs": [
    {
     "data": {
      "text/plain": [
       "Low Fat    5517\n",
       "Regular    3006\n",
       "Name: Item_Fat_Content, dtype: int64"
      ]
     },
     "execution_count": 18,
     "metadata": {},
     "output_type": "execute_result"
    }
   ],
   "source": [
    "df['Item_Fat_Content'].value_counts()"
   ]
  },
  {
   "cell_type": "code",
   "execution_count": 19,
   "id": "af2c913c",
   "metadata": {
    "execution": {
     "iopub.execute_input": "2023-05-01T14:24:13.300446Z",
     "iopub.status.busy": "2023-05-01T14:24:13.300043Z",
     "iopub.status.idle": "2023-05-01T14:24:13.304922Z",
     "shell.execute_reply": "2023-05-01T14:24:13.303775Z"
    },
    "papermill": {
     "duration": 0.021748,
     "end_time": "2023-05-01T14:24:13.307354",
     "exception": false,
     "start_time": "2023-05-01T14:24:13.285606",
     "status": "completed"
    },
    "tags": []
   },
   "outputs": [],
   "source": [
    "encoder = LabelEncoder()"
   ]
  },
  {
   "cell_type": "code",
   "execution_count": 20,
   "id": "a3b543ab",
   "metadata": {
    "execution": {
     "iopub.execute_input": "2023-05-01T14:24:13.335119Z",
     "iopub.status.busy": "2023-05-01T14:24:13.334704Z",
     "iopub.status.idle": "2023-05-01T14:24:13.365148Z",
     "shell.execute_reply": "2023-05-01T14:24:13.364010Z"
    },
    "papermill": {
     "duration": 0.047526,
     "end_time": "2023-05-01T14:24:13.367789",
     "exception": false,
     "start_time": "2023-05-01T14:24:13.320263",
     "status": "completed"
    },
    "tags": []
   },
   "outputs": [],
   "source": [
    "# Change Strings to int for easier use\n",
    "df['Item_Identifier'] = encoder.fit_transform(df['Item_Identifier'])\n",
    "\n",
    "df['Item_Fat_Content'] = encoder.fit_transform(df['Item_Fat_Content'])\n",
    "\n",
    "df['Item_Type'] = encoder.fit_transform(df['Item_Type'])\n",
    "\n",
    "df['Outlet_Identifier'] = encoder.fit_transform(df['Outlet_Identifier'])\n",
    "\n",
    "df['Outlet_Size'] = encoder.fit_transform(df['Outlet_Size'])\n",
    "\n",
    "df['Outlet_Location_Type'] = encoder.fit_transform(df['Outlet_Location_Type'])\n",
    "\n",
    "df['Outlet_Type'] = encoder.fit_transform(df['Outlet_Type'])"
   ]
  },
  {
   "cell_type": "code",
   "execution_count": 21,
   "id": "8739eff5",
   "metadata": {
    "execution": {
     "iopub.execute_input": "2023-05-01T14:24:13.396054Z",
     "iopub.status.busy": "2023-05-01T14:24:13.395020Z",
     "iopub.status.idle": "2023-05-01T14:24:13.411168Z",
     "shell.execute_reply": "2023-05-01T14:24:13.409961Z"
    },
    "papermill": {
     "duration": 0.032863,
     "end_time": "2023-05-01T14:24:13.413791",
     "exception": false,
     "start_time": "2023-05-01T14:24:13.380928",
     "status": "completed"
    },
    "tags": []
   },
   "outputs": [
    {
     "data": {
      "text/html": [
       "<div>\n",
       "<style scoped>\n",
       "    .dataframe tbody tr th:only-of-type {\n",
       "        vertical-align: middle;\n",
       "    }\n",
       "\n",
       "    .dataframe tbody tr th {\n",
       "        vertical-align: top;\n",
       "    }\n",
       "\n",
       "    .dataframe thead th {\n",
       "        text-align: right;\n",
       "    }\n",
       "</style>\n",
       "<table border=\"1\" class=\"dataframe\">\n",
       "  <thead>\n",
       "    <tr style=\"text-align: right;\">\n",
       "      <th></th>\n",
       "      <th>Item_Identifier</th>\n",
       "      <th>Item_Weight</th>\n",
       "      <th>Item_Fat_Content</th>\n",
       "      <th>Item_Visibility</th>\n",
       "      <th>Item_Type</th>\n",
       "      <th>Item_MRP</th>\n",
       "      <th>Outlet_Identifier</th>\n",
       "      <th>Outlet_Establishment_Year</th>\n",
       "      <th>Outlet_Size</th>\n",
       "      <th>Outlet_Location_Type</th>\n",
       "      <th>Outlet_Type</th>\n",
       "      <th>Item_Outlet_Sales</th>\n",
       "    </tr>\n",
       "  </thead>\n",
       "  <tbody>\n",
       "    <tr>\n",
       "      <th>0</th>\n",
       "      <td>156</td>\n",
       "      <td>9.30</td>\n",
       "      <td>0</td>\n",
       "      <td>0.016047</td>\n",
       "      <td>4</td>\n",
       "      <td>249.8092</td>\n",
       "      <td>9</td>\n",
       "      <td>1999</td>\n",
       "      <td>1</td>\n",
       "      <td>0</td>\n",
       "      <td>1</td>\n",
       "      <td>3735.1380</td>\n",
       "    </tr>\n",
       "    <tr>\n",
       "      <th>1</th>\n",
       "      <td>8</td>\n",
       "      <td>5.92</td>\n",
       "      <td>1</td>\n",
       "      <td>0.019278</td>\n",
       "      <td>14</td>\n",
       "      <td>48.2692</td>\n",
       "      <td>3</td>\n",
       "      <td>2009</td>\n",
       "      <td>1</td>\n",
       "      <td>2</td>\n",
       "      <td>2</td>\n",
       "      <td>443.4228</td>\n",
       "    </tr>\n",
       "    <tr>\n",
       "      <th>2</th>\n",
       "      <td>662</td>\n",
       "      <td>17.50</td>\n",
       "      <td>0</td>\n",
       "      <td>0.016760</td>\n",
       "      <td>10</td>\n",
       "      <td>141.6180</td>\n",
       "      <td>9</td>\n",
       "      <td>1999</td>\n",
       "      <td>1</td>\n",
       "      <td>0</td>\n",
       "      <td>1</td>\n",
       "      <td>2097.2700</td>\n",
       "    </tr>\n",
       "    <tr>\n",
       "      <th>3</th>\n",
       "      <td>1121</td>\n",
       "      <td>19.20</td>\n",
       "      <td>1</td>\n",
       "      <td>0.000000</td>\n",
       "      <td>6</td>\n",
       "      <td>182.0950</td>\n",
       "      <td>0</td>\n",
       "      <td>1998</td>\n",
       "      <td>2</td>\n",
       "      <td>2</td>\n",
       "      <td>0</td>\n",
       "      <td>732.3800</td>\n",
       "    </tr>\n",
       "    <tr>\n",
       "      <th>4</th>\n",
       "      <td>1297</td>\n",
       "      <td>8.93</td>\n",
       "      <td>0</td>\n",
       "      <td>0.000000</td>\n",
       "      <td>9</td>\n",
       "      <td>53.8614</td>\n",
       "      <td>1</td>\n",
       "      <td>1987</td>\n",
       "      <td>0</td>\n",
       "      <td>2</td>\n",
       "      <td>1</td>\n",
       "      <td>994.7052</td>\n",
       "    </tr>\n",
       "  </tbody>\n",
       "</table>\n",
       "</div>"
      ],
      "text/plain": [
       "   Item_Identifier  Item_Weight  Item_Fat_Content  Item_Visibility  Item_Type  \\\n",
       "0              156         9.30                 0         0.016047          4   \n",
       "1                8         5.92                 1         0.019278         14   \n",
       "2              662        17.50                 0         0.016760         10   \n",
       "3             1121        19.20                 1         0.000000          6   \n",
       "4             1297         8.93                 0         0.000000          9   \n",
       "\n",
       "   Item_MRP  Outlet_Identifier  Outlet_Establishment_Year  Outlet_Size  \\\n",
       "0  249.8092                  9                       1999            1   \n",
       "1   48.2692                  3                       2009            1   \n",
       "2  141.6180                  9                       1999            1   \n",
       "3  182.0950                  0                       1998            2   \n",
       "4   53.8614                  1                       1987            0   \n",
       "\n",
       "   Outlet_Location_Type  Outlet_Type  Item_Outlet_Sales  \n",
       "0                     0            1          3735.1380  \n",
       "1                     2            2           443.4228  \n",
       "2                     0            1          2097.2700  \n",
       "3                     2            0           732.3800  \n",
       "4                     2            1           994.7052  "
      ]
     },
     "execution_count": 21,
     "metadata": {},
     "output_type": "execute_result"
    }
   ],
   "source": [
    "df.head()"
   ]
  },
  {
   "cell_type": "code",
   "execution_count": 22,
   "id": "e1fd59cd",
   "metadata": {
    "execution": {
     "iopub.execute_input": "2023-05-01T14:24:13.441914Z",
     "iopub.status.busy": "2023-05-01T14:24:13.441463Z",
     "iopub.status.idle": "2023-05-01T14:24:13.450432Z",
     "shell.execute_reply": "2023-05-01T14:24:13.449267Z"
    },
    "papermill": {
     "duration": 0.026301,
     "end_time": "2023-05-01T14:24:13.453116",
     "exception": false,
     "start_time": "2023-05-01T14:24:13.426815",
     "status": "completed"
    },
    "tags": []
   },
   "outputs": [],
   "source": [
    "# Splitting features and Target\n",
    "x = df.drop(columns='Item_Outlet_Sales', axis=1)\n",
    "y = df['Item_Outlet_Sales']"
   ]
  },
  {
   "cell_type": "markdown",
   "id": "ad1fbc0f",
   "metadata": {
    "papermill": {
     "duration": 0.01263,
     "end_time": "2023-05-01T14:24:13.478856",
     "exception": false,
     "start_time": "2023-05-01T14:24:13.466226",
     "status": "completed"
    },
    "tags": []
   },
   "source": [
    "<a id='2'></a>\n",
    "### Training Data"
   ]
  },
  {
   "cell_type": "code",
   "execution_count": 23,
   "id": "e0284c0f",
   "metadata": {
    "execution": {
     "iopub.execute_input": "2023-05-01T14:24:13.506953Z",
     "iopub.status.busy": "2023-05-01T14:24:13.506550Z",
     "iopub.status.idle": "2023-05-01T14:24:13.515180Z",
     "shell.execute_reply": "2023-05-01T14:24:13.514272Z"
    },
    "papermill": {
     "duration": 0.025641,
     "end_time": "2023-05-01T14:24:13.517486",
     "exception": false,
     "start_time": "2023-05-01T14:24:13.491845",
     "status": "completed"
    },
    "tags": []
   },
   "outputs": [],
   "source": [
    "x_train,x_test,y_train,y_test = train_test_split(x,y,test_size=0.2,random_state=42)\n"
   ]
  },
  {
   "cell_type": "code",
   "execution_count": 24,
   "id": "41ca62f5",
   "metadata": {
    "execution": {
     "iopub.execute_input": "2023-05-01T14:24:13.546159Z",
     "iopub.status.busy": "2023-05-01T14:24:13.545117Z",
     "iopub.status.idle": "2023-05-01T14:24:14.291197Z",
     "shell.execute_reply": "2023-05-01T14:24:14.290076Z"
    },
    "papermill": {
     "duration": 0.763086,
     "end_time": "2023-05-01T14:24:14.293702",
     "exception": false,
     "start_time": "2023-05-01T14:24:13.530616",
     "status": "completed"
    },
    "tags": []
   },
   "outputs": [
    {
     "data": {
      "text/plain": [
       "XGBRegressor(base_score=0.5, booster='gbtree', callbacks=None,\n",
       "             colsample_bylevel=1, colsample_bynode=1, colsample_bytree=1,\n",
       "             early_stopping_rounds=None, enable_categorical=False,\n",
       "             eval_metric=None, gamma=0, gpu_id=-1, grow_policy='depthwise',\n",
       "             importance_type=None, interaction_constraints='',\n",
       "             learning_rate=0.300000012, max_bin=256, max_cat_to_onehot=4,\n",
       "             max_delta_step=0, max_depth=6, max_leaves=0, min_child_weight=1,\n",
       "             missing=nan, monotone_constraints='()', n_estimators=100, n_jobs=0,\n",
       "             num_parallel_tree=1, predictor='auto', random_state=0, reg_alpha=0,\n",
       "             reg_lambda=1, ...)"
      ]
     },
     "execution_count": 24,
     "metadata": {},
     "output_type": "execute_result"
    }
   ],
   "source": [
    "model = XGBRegressor()\n",
    "model.fit(x_train, y_train)"
   ]
  },
  {
   "cell_type": "markdown",
   "id": "610029c3",
   "metadata": {
    "papermill": {
     "duration": 0.013199,
     "end_time": "2023-05-01T14:24:14.320989",
     "exception": false,
     "start_time": "2023-05-01T14:24:14.307790",
     "status": "completed"
    },
    "tags": []
   },
   "source": [
    "<a id='3'></a>\n",
    "### 3-Evaluation"
   ]
  },
  {
   "cell_type": "code",
   "execution_count": 25,
   "id": "739da3ff",
   "metadata": {
    "execution": {
     "iopub.execute_input": "2023-05-01T14:24:14.349247Z",
     "iopub.status.busy": "2023-05-01T14:24:14.348494Z",
     "iopub.status.idle": "2023-05-01T14:24:14.372970Z",
     "shell.execute_reply": "2023-05-01T14:24:14.371971Z"
    },
    "papermill": {
     "duration": 0.041607,
     "end_time": "2023-05-01T14:24:14.375648",
     "exception": false,
     "start_time": "2023-05-01T14:24:14.334041",
     "status": "completed"
    },
    "tags": []
   },
   "outputs": [],
   "source": [
    "# Making predictions\n",
    "training_data_pred = model.predict(x_train)\n",
    "test_data_pred = model.predict(x_test)"
   ]
  },
  {
   "cell_type": "code",
   "execution_count": 26,
   "id": "e508e4f5",
   "metadata": {
    "execution": {
     "iopub.execute_input": "2023-05-01T14:24:14.406369Z",
     "iopub.status.busy": "2023-05-01T14:24:14.405340Z",
     "iopub.status.idle": "2023-05-01T14:24:14.412743Z",
     "shell.execute_reply": "2023-05-01T14:24:14.411731Z"
    },
    "papermill": {
     "duration": 0.024059,
     "end_time": "2023-05-01T14:24:14.415214",
     "exception": false,
     "start_time": "2023-05-01T14:24:14.391155",
     "status": "completed"
    },
    "tags": []
   },
   "outputs": [],
   "source": [
    "# R squared Value\n",
    "r2_train = metrics.r2_score(y_train, training_data_pred)\n",
    "r2_test = metrics.r2_score(y_test, test_data_pred)"
   ]
  },
  {
   "cell_type": "code",
   "execution_count": 27,
   "id": "7889d2f0",
   "metadata": {
    "execution": {
     "iopub.execute_input": "2023-05-01T14:24:14.444328Z",
     "iopub.status.busy": "2023-05-01T14:24:14.443081Z",
     "iopub.status.idle": "2023-05-01T14:24:14.450131Z",
     "shell.execute_reply": "2023-05-01T14:24:14.448385Z"
    },
    "papermill": {
     "duration": 0.024432,
     "end_time": "2023-05-01T14:24:14.452749",
     "exception": false,
     "start_time": "2023-05-01T14:24:14.428317",
     "status": "completed"
    },
    "tags": []
   },
   "outputs": [
    {
     "name": "stdout",
     "output_type": "stream",
     "text": [
      "Training data R squered value: 0.8596212466140883\n",
      "Test data R squered value: 0.5293798650563337\n"
     ]
    }
   ],
   "source": [
    "print(f\"Training data R squered value: {r2_train}\\nTest data R squered value: {r2_test}\")"
   ]
  }
 ],
 "metadata": {
  "kernelspec": {
   "display_name": "Python 3 (ipykernel)",
   "language": "python",
   "name": "python3"
  },
  "language_info": {
   "codemirror_mode": {
    "name": "ipython",
    "version": 3
   },
   "file_extension": ".py",
   "mimetype": "text/x-python",
   "name": "python",
   "nbconvert_exporter": "python",
   "pygments_lexer": "ipython3",
   "version": "3.10.9"
  },
  "papermill": {
   "default_parameters": {},
   "duration": 16.671017,
   "end_time": "2023-05-01T14:24:15.289036",
   "environment_variables": {},
   "exception": null,
   "input_path": "__notebook__.ipynb",
   "output_path": "__notebook__.ipynb",
   "parameters": {},
   "start_time": "2023-05-01T14:23:58.618019",
   "version": "2.4.0"
  }
 },
 "nbformat": 4,
 "nbformat_minor": 5
}
